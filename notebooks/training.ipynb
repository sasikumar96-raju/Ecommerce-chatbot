{
  "cells": [
    {
      "cell_type": "code",
      "execution_count": 43,
      "metadata": {
        "colab": {
          "base_uri": "https://localhost:8080/"
        },
        "id": "9xp8Qqjfqam2",
        "outputId": "fc09b6a4-2694-473b-b1b3-521064d848c7"
      },
      "outputs": [
        {
          "output_type": "stream",
          "name": "stdout",
          "text": [
            "Collecting transformers==3\n",
            "  Using cached transformers-3.0.0-py3-none-any.whl (754 kB)\n",
            "Requirement already satisfied: numpy in /usr/local/lib/python3.10/dist-packages (from transformers==3) (1.23.5)\n",
            "Collecting tokenizers==0.8.0-rc4 (from transformers==3)\n",
            "  Using cached tokenizers-0.8.0rc4.tar.gz (96 kB)\n",
            "  Installing build dependencies ... \u001b[?25l\u001b[?25hdone\n",
            "  Getting requirements to build wheel ... \u001b[?25l\u001b[?25hdone\n",
            "  Preparing metadata (pyproject.toml) ... \u001b[?25l\u001b[?25hdone\n",
            "Requirement already satisfied: packaging in /usr/local/lib/python3.10/dist-packages (from transformers==3) (23.2)\n",
            "Requirement already satisfied: filelock in /usr/local/lib/python3.10/dist-packages (from transformers==3) (3.13.1)\n",
            "Requirement already satisfied: requests in /usr/local/lib/python3.10/dist-packages (from transformers==3) (2.31.0)\n",
            "Requirement already satisfied: tqdm>=4.27 in /usr/local/lib/python3.10/dist-packages (from transformers==3) (4.66.1)\n",
            "Requirement already satisfied: regex!=2019.12.17 in /usr/local/lib/python3.10/dist-packages (from transformers==3) (2023.6.3)\n",
            "Collecting sentencepiece (from transformers==3)\n",
            "  Using cached sentencepiece-0.1.99-cp310-cp310-manylinux_2_17_x86_64.manylinux2014_x86_64.whl (1.3 MB)\n",
            "Collecting sacremoses (from transformers==3)\n",
            "  Using cached sacremoses-0.1.1-py3-none-any.whl (897 kB)\n",
            "Requirement already satisfied: charset-normalizer<4,>=2 in /usr/local/lib/python3.10/dist-packages (from requests->transformers==3) (3.3.2)\n",
            "Requirement already satisfied: idna<4,>=2.5 in /usr/local/lib/python3.10/dist-packages (from requests->transformers==3) (3.6)\n",
            "Requirement already satisfied: urllib3<3,>=1.21.1 in /usr/local/lib/python3.10/dist-packages (from requests->transformers==3) (2.0.7)\n",
            "Requirement already satisfied: certifi>=2017.4.17 in /usr/local/lib/python3.10/dist-packages (from requests->transformers==3) (2023.11.17)\n",
            "Requirement already satisfied: click in /usr/local/lib/python3.10/dist-packages (from sacremoses->transformers==3) (8.1.7)\n",
            "Requirement already satisfied: joblib in /usr/local/lib/python3.10/dist-packages (from sacremoses->transformers==3) (1.3.2)\n",
            "Building wheels for collected packages: tokenizers\n",
            "  \u001b[1;31merror\u001b[0m: \u001b[1msubprocess-exited-with-error\u001b[0m\n",
            "  \n",
            "  \u001b[31m×\u001b[0m \u001b[32mBuilding wheel for tokenizers \u001b[0m\u001b[1;32m(\u001b[0m\u001b[32mpyproject.toml\u001b[0m\u001b[1;32m)\u001b[0m did not run successfully.\n",
            "  \u001b[31m│\u001b[0m exit code: \u001b[1;36m1\u001b[0m\n",
            "  \u001b[31m╰─>\u001b[0m See above for output.\n",
            "  \n",
            "  \u001b[1;35mnote\u001b[0m: This error originates from a subprocess, and is likely not a problem with pip.\n",
            "  Building wheel for tokenizers (pyproject.toml) ... \u001b[?25l\u001b[?25herror\n",
            "\u001b[31m  ERROR: Failed building wheel for tokenizers\u001b[0m\u001b[31m\n",
            "\u001b[0mFailed to build tokenizers\n",
            "\u001b[31mERROR: Could not build wheels for tokenizers, which is required to install pyproject.toml-based projects\u001b[0m\u001b[31m\n",
            "\u001b[0mRequirement already satisfied: torchinfo in /usr/local/lib/python3.10/dist-packages (1.8.0)\n"
          ]
        }
      ],
      "source": [
        "!pip install transformers==3\n",
        "!pip install torchinfo"
      ]
    },
    {
      "cell_type": "code",
      "execution_count": 44,
      "metadata": {
        "id": "nQj1d4lTqh-h"
      },
      "outputs": [],
      "source": [
        "import numpy as np\n",
        "import pandas as pd\n",
        "import re\n",
        "import torch\n",
        "import random\n",
        "import torch.nn as nn\n",
        "import transformers\n",
        "import matplotlib.pyplot as plt\n",
        "# specify GPU\n",
        "# device = torch.device(\"cuda\")\n",
        "device = torch.device('cuda' if torch.cuda.is_available() else 'cpu')"
      ]
    },
    {
      "cell_type": "code",
      "execution_count": 45,
      "metadata": {
        "colab": {
          "base_uri": "https://localhost:8080/",
          "height": 310
        },
        "id": "rnz8ngnhqq44",
        "outputId": "4382e1c8-a11e-460f-d013-a26e79226b39"
      },
      "outputs": [
        {
          "output_type": "execute_result",
          "data": {
            "text/plain": [
              "   customer_id  complaint_id time_of_complaint date_of_complaint  \\\n",
              "0        10001          2001          10:30 AM        2022-01-01   \n",
              "1        10002          2002          10:35 AM        2022-01-02   \n",
              "2        10003          2003          10:40 AM        2022-01-03   \n",
              "3        10004          2004          10:45 AM        2022-01-04   \n",
              "4        10005          2005          10:50 AM        2022-01-05   \n",
              "\n",
              "                                         questions  \\\n",
              "0                      Why is the product delayed?   \n",
              "1  Can you provide more details about product XYZ?   \n",
              "2   The product arrived damaged. What should I do?   \n",
              "3                        How can I track my order?   \n",
              "4             Is there a warranty on this product?   \n",
              "\n",
              "                                       response_text   Intent Unnamed: 7  \\\n",
              "0  We apologize for the delay. There was a high d...  Product        NaN   \n",
              "1  Certainly! Product XYZ is a high-quality elect...  Product        NaN   \n",
              "2  We're sorry to hear that. Please provide your ...  Product        NaN   \n",
              "3  You can track your order by logging into your ...  Product        NaN   \n",
              "4  Yes our products come with a standard one-year...  Product        NaN   \n",
              "\n",
              "  Unnamed: 8  \n",
              "0        NaN  \n",
              "1        NaN  \n",
              "2        NaN  \n",
              "3        NaN  \n",
              "4        NaN  "
            ],
            "text/html": [
              "\n",
              "  <div id=\"df-7d8ea1f6-a5eb-4455-a531-0c9ea75e337d\" class=\"colab-df-container\">\n",
              "    <div>\n",
              "<style scoped>\n",
              "    .dataframe tbody tr th:only-of-type {\n",
              "        vertical-align: middle;\n",
              "    }\n",
              "\n",
              "    .dataframe tbody tr th {\n",
              "        vertical-align: top;\n",
              "    }\n",
              "\n",
              "    .dataframe thead th {\n",
              "        text-align: right;\n",
              "    }\n",
              "</style>\n",
              "<table border=\"1\" class=\"dataframe\">\n",
              "  <thead>\n",
              "    <tr style=\"text-align: right;\">\n",
              "      <th></th>\n",
              "      <th>customer_id</th>\n",
              "      <th>complaint_id</th>\n",
              "      <th>time_of_complaint</th>\n",
              "      <th>date_of_complaint</th>\n",
              "      <th>questions</th>\n",
              "      <th>response_text</th>\n",
              "      <th>Intent</th>\n",
              "      <th>Unnamed: 7</th>\n",
              "      <th>Unnamed: 8</th>\n",
              "    </tr>\n",
              "  </thead>\n",
              "  <tbody>\n",
              "    <tr>\n",
              "      <th>0</th>\n",
              "      <td>10001</td>\n",
              "      <td>2001</td>\n",
              "      <td>10:30 AM</td>\n",
              "      <td>2022-01-01</td>\n",
              "      <td>Why is the product delayed?</td>\n",
              "      <td>We apologize for the delay. There was a high d...</td>\n",
              "      <td>Product</td>\n",
              "      <td>NaN</td>\n",
              "      <td>NaN</td>\n",
              "    </tr>\n",
              "    <tr>\n",
              "      <th>1</th>\n",
              "      <td>10002</td>\n",
              "      <td>2002</td>\n",
              "      <td>10:35 AM</td>\n",
              "      <td>2022-01-02</td>\n",
              "      <td>Can you provide more details about product XYZ?</td>\n",
              "      <td>Certainly! Product XYZ is a high-quality elect...</td>\n",
              "      <td>Product</td>\n",
              "      <td>NaN</td>\n",
              "      <td>NaN</td>\n",
              "    </tr>\n",
              "    <tr>\n",
              "      <th>2</th>\n",
              "      <td>10003</td>\n",
              "      <td>2003</td>\n",
              "      <td>10:40 AM</td>\n",
              "      <td>2022-01-03</td>\n",
              "      <td>The product arrived damaged. What should I do?</td>\n",
              "      <td>We're sorry to hear that. Please provide your ...</td>\n",
              "      <td>Product</td>\n",
              "      <td>NaN</td>\n",
              "      <td>NaN</td>\n",
              "    </tr>\n",
              "    <tr>\n",
              "      <th>3</th>\n",
              "      <td>10004</td>\n",
              "      <td>2004</td>\n",
              "      <td>10:45 AM</td>\n",
              "      <td>2022-01-04</td>\n",
              "      <td>How can I track my order?</td>\n",
              "      <td>You can track your order by logging into your ...</td>\n",
              "      <td>Product</td>\n",
              "      <td>NaN</td>\n",
              "      <td>NaN</td>\n",
              "    </tr>\n",
              "    <tr>\n",
              "      <th>4</th>\n",
              "      <td>10005</td>\n",
              "      <td>2005</td>\n",
              "      <td>10:50 AM</td>\n",
              "      <td>2022-01-05</td>\n",
              "      <td>Is there a warranty on this product?</td>\n",
              "      <td>Yes our products come with a standard one-year...</td>\n",
              "      <td>Product</td>\n",
              "      <td>NaN</td>\n",
              "      <td>NaN</td>\n",
              "    </tr>\n",
              "  </tbody>\n",
              "</table>\n",
              "</div>\n",
              "    <div class=\"colab-df-buttons\">\n",
              "\n",
              "  <div class=\"colab-df-container\">\n",
              "    <button class=\"colab-df-convert\" onclick=\"convertToInteractive('df-7d8ea1f6-a5eb-4455-a531-0c9ea75e337d')\"\n",
              "            title=\"Convert this dataframe to an interactive table.\"\n",
              "            style=\"display:none;\">\n",
              "\n",
              "  <svg xmlns=\"http://www.w3.org/2000/svg\" height=\"24px\" viewBox=\"0 -960 960 960\">\n",
              "    <path d=\"M120-120v-720h720v720H120Zm60-500h600v-160H180v160Zm220 220h160v-160H400v160Zm0 220h160v-160H400v160ZM180-400h160v-160H180v160Zm440 0h160v-160H620v160ZM180-180h160v-160H180v160Zm440 0h160v-160H620v160Z\"/>\n",
              "  </svg>\n",
              "    </button>\n",
              "\n",
              "  <style>\n",
              "    .colab-df-container {\n",
              "      display:flex;\n",
              "      gap: 12px;\n",
              "    }\n",
              "\n",
              "    .colab-df-convert {\n",
              "      background-color: #E8F0FE;\n",
              "      border: none;\n",
              "      border-radius: 50%;\n",
              "      cursor: pointer;\n",
              "      display: none;\n",
              "      fill: #1967D2;\n",
              "      height: 32px;\n",
              "      padding: 0 0 0 0;\n",
              "      width: 32px;\n",
              "    }\n",
              "\n",
              "    .colab-df-convert:hover {\n",
              "      background-color: #E2EBFA;\n",
              "      box-shadow: 0px 1px 2px rgba(60, 64, 67, 0.3), 0px 1px 3px 1px rgba(60, 64, 67, 0.15);\n",
              "      fill: #174EA6;\n",
              "    }\n",
              "\n",
              "    .colab-df-buttons div {\n",
              "      margin-bottom: 4px;\n",
              "    }\n",
              "\n",
              "    [theme=dark] .colab-df-convert {\n",
              "      background-color: #3B4455;\n",
              "      fill: #D2E3FC;\n",
              "    }\n",
              "\n",
              "    [theme=dark] .colab-df-convert:hover {\n",
              "      background-color: #434B5C;\n",
              "      box-shadow: 0px 1px 3px 1px rgba(0, 0, 0, 0.15);\n",
              "      filter: drop-shadow(0px 1px 2px rgba(0, 0, 0, 0.3));\n",
              "      fill: #FFFFFF;\n",
              "    }\n",
              "  </style>\n",
              "\n",
              "    <script>\n",
              "      const buttonEl =\n",
              "        document.querySelector('#df-7d8ea1f6-a5eb-4455-a531-0c9ea75e337d button.colab-df-convert');\n",
              "      buttonEl.style.display =\n",
              "        google.colab.kernel.accessAllowed ? 'block' : 'none';\n",
              "\n",
              "      async function convertToInteractive(key) {\n",
              "        const element = document.querySelector('#df-7d8ea1f6-a5eb-4455-a531-0c9ea75e337d');\n",
              "        const dataTable =\n",
              "          await google.colab.kernel.invokeFunction('convertToInteractive',\n",
              "                                                    [key], {});\n",
              "        if (!dataTable) return;\n",
              "\n",
              "        const docLinkHtml = 'Like what you see? Visit the ' +\n",
              "          '<a target=\"_blank\" href=https://colab.research.google.com/notebooks/data_table.ipynb>data table notebook</a>'\n",
              "          + ' to learn more about interactive tables.';\n",
              "        element.innerHTML = '';\n",
              "        dataTable['output_type'] = 'display_data';\n",
              "        await google.colab.output.renderOutput(dataTable, element);\n",
              "        const docLink = document.createElement('div');\n",
              "        docLink.innerHTML = docLinkHtml;\n",
              "        element.appendChild(docLink);\n",
              "      }\n",
              "    </script>\n",
              "  </div>\n",
              "\n",
              "\n",
              "<div id=\"df-17b1d7cf-a38c-4a94-a554-95e57984ba58\">\n",
              "  <button class=\"colab-df-quickchart\" onclick=\"quickchart('df-17b1d7cf-a38c-4a94-a554-95e57984ba58')\"\n",
              "            title=\"Suggest charts\"\n",
              "            style=\"display:none;\">\n",
              "\n",
              "<svg xmlns=\"http://www.w3.org/2000/svg\" height=\"24px\"viewBox=\"0 0 24 24\"\n",
              "     width=\"24px\">\n",
              "    <g>\n",
              "        <path d=\"M19 3H5c-1.1 0-2 .9-2 2v14c0 1.1.9 2 2 2h14c1.1 0 2-.9 2-2V5c0-1.1-.9-2-2-2zM9 17H7v-7h2v7zm4 0h-2V7h2v10zm4 0h-2v-4h2v4z\"/>\n",
              "    </g>\n",
              "</svg>\n",
              "  </button>\n",
              "\n",
              "<style>\n",
              "  .colab-df-quickchart {\n",
              "      --bg-color: #E8F0FE;\n",
              "      --fill-color: #1967D2;\n",
              "      --hover-bg-color: #E2EBFA;\n",
              "      --hover-fill-color: #174EA6;\n",
              "      --disabled-fill-color: #AAA;\n",
              "      --disabled-bg-color: #DDD;\n",
              "  }\n",
              "\n",
              "  [theme=dark] .colab-df-quickchart {\n",
              "      --bg-color: #3B4455;\n",
              "      --fill-color: #D2E3FC;\n",
              "      --hover-bg-color: #434B5C;\n",
              "      --hover-fill-color: #FFFFFF;\n",
              "      --disabled-bg-color: #3B4455;\n",
              "      --disabled-fill-color: #666;\n",
              "  }\n",
              "\n",
              "  .colab-df-quickchart {\n",
              "    background-color: var(--bg-color);\n",
              "    border: none;\n",
              "    border-radius: 50%;\n",
              "    cursor: pointer;\n",
              "    display: none;\n",
              "    fill: var(--fill-color);\n",
              "    height: 32px;\n",
              "    padding: 0;\n",
              "    width: 32px;\n",
              "  }\n",
              "\n",
              "  .colab-df-quickchart:hover {\n",
              "    background-color: var(--hover-bg-color);\n",
              "    box-shadow: 0 1px 2px rgba(60, 64, 67, 0.3), 0 1px 3px 1px rgba(60, 64, 67, 0.15);\n",
              "    fill: var(--button-hover-fill-color);\n",
              "  }\n",
              "\n",
              "  .colab-df-quickchart-complete:disabled,\n",
              "  .colab-df-quickchart-complete:disabled:hover {\n",
              "    background-color: var(--disabled-bg-color);\n",
              "    fill: var(--disabled-fill-color);\n",
              "    box-shadow: none;\n",
              "  }\n",
              "\n",
              "  .colab-df-spinner {\n",
              "    border: 2px solid var(--fill-color);\n",
              "    border-color: transparent;\n",
              "    border-bottom-color: var(--fill-color);\n",
              "    animation:\n",
              "      spin 1s steps(1) infinite;\n",
              "  }\n",
              "\n",
              "  @keyframes spin {\n",
              "    0% {\n",
              "      border-color: transparent;\n",
              "      border-bottom-color: var(--fill-color);\n",
              "      border-left-color: var(--fill-color);\n",
              "    }\n",
              "    20% {\n",
              "      border-color: transparent;\n",
              "      border-left-color: var(--fill-color);\n",
              "      border-top-color: var(--fill-color);\n",
              "    }\n",
              "    30% {\n",
              "      border-color: transparent;\n",
              "      border-left-color: var(--fill-color);\n",
              "      border-top-color: var(--fill-color);\n",
              "      border-right-color: var(--fill-color);\n",
              "    }\n",
              "    40% {\n",
              "      border-color: transparent;\n",
              "      border-right-color: var(--fill-color);\n",
              "      border-top-color: var(--fill-color);\n",
              "    }\n",
              "    60% {\n",
              "      border-color: transparent;\n",
              "      border-right-color: var(--fill-color);\n",
              "    }\n",
              "    80% {\n",
              "      border-color: transparent;\n",
              "      border-right-color: var(--fill-color);\n",
              "      border-bottom-color: var(--fill-color);\n",
              "    }\n",
              "    90% {\n",
              "      border-color: transparent;\n",
              "      border-bottom-color: var(--fill-color);\n",
              "    }\n",
              "  }\n",
              "</style>\n",
              "\n",
              "  <script>\n",
              "    async function quickchart(key) {\n",
              "      const quickchartButtonEl =\n",
              "        document.querySelector('#' + key + ' button');\n",
              "      quickchartButtonEl.disabled = true;  // To prevent multiple clicks.\n",
              "      quickchartButtonEl.classList.add('colab-df-spinner');\n",
              "      try {\n",
              "        const charts = await google.colab.kernel.invokeFunction(\n",
              "            'suggestCharts', [key], {});\n",
              "      } catch (error) {\n",
              "        console.error('Error during call to suggestCharts:', error);\n",
              "      }\n",
              "      quickchartButtonEl.classList.remove('colab-df-spinner');\n",
              "      quickchartButtonEl.classList.add('colab-df-quickchart-complete');\n",
              "    }\n",
              "    (() => {\n",
              "      let quickchartButtonEl =\n",
              "        document.querySelector('#df-17b1d7cf-a38c-4a94-a554-95e57984ba58 button');\n",
              "      quickchartButtonEl.style.display =\n",
              "        google.colab.kernel.accessAllowed ? 'block' : 'none';\n",
              "    })();\n",
              "  </script>\n",
              "</div>\n",
              "    </div>\n",
              "  </div>\n"
            ]
          },
          "metadata": {},
          "execution_count": 45
        }
      ],
      "source": [
        "df = pd.read_csv(\"/content/updated_complaints.csv\")\n",
        "df.head()"
      ]
    },
    {
      "cell_type": "code",
      "execution_count": 46,
      "metadata": {
        "colab": {
          "base_uri": "https://localhost:8080/"
        },
        "id": "RHzftkynq1gQ",
        "outputId": "e7fcb241-e07a-47d5-b4fd-d48a3d8307fa"
      },
      "outputs": [
        {
          "output_type": "execute_result",
          "data": {
            "text/plain": [
              "Product              40\n",
              "Positive Feedback    40\n",
              "Negative Feedback    40\n",
              "Product Inquiry      20\n",
              "Greetings            20\n",
              "Name: Intent, dtype: int64"
            ]
          },
          "metadata": {},
          "execution_count": 46
        }
      ],
      "source": [
        "df['Intent'].value_counts()"
      ]
    },
    {
      "cell_type": "code",
      "execution_count": 47,
      "metadata": {
        "colab": {
          "base_uri": "https://localhost:8080/"
        },
        "id": "H2OOkv0JrETS",
        "outputId": "76b41d11-a936-45c3-ca3f-2d88d34cca98"
      },
      "outputs": [
        {
          "output_type": "execute_result",
          "data": {
            "text/plain": [
              "3    0.250\n",
              "2    0.250\n",
              "1    0.250\n",
              "4    0.125\n",
              "0    0.125\n",
              "Name: label, dtype: float64"
            ]
          },
          "metadata": {},
          "execution_count": 47
        }
      ],
      "source": [
        "from sklearn.preprocessing import LabelEncoder\n",
        "le = LabelEncoder()\n",
        "df['label'] = le.fit_transform(df['Intent'])\n",
        "df['label'].value_counts(normalize = True)"
      ]
    },
    {
      "cell_type": "code",
      "execution_count": 48,
      "metadata": {
        "id": "HYSpKgWqrN4N",
        "colab": {
          "base_uri": "https://localhost:8080/"
        },
        "outputId": "881a199d-1314-458d-8171-53fcf4420cb5"
      },
      "outputs": [
        {
          "output_type": "execute_result",
          "data": {
            "text/plain": [
              "array([3, 2, 1, 4, 0])"
            ]
          },
          "metadata": {},
          "execution_count": 48
        }
      ],
      "source": [
        "train_text, train_labels = df[\"questions\"], df[\"label\"]\n",
        "train_labels.unique()"
      ]
    },
    {
      "cell_type": "code",
      "execution_count": 49,
      "metadata": {
        "id": "7w0Rbkderbnx"
      },
      "outputs": [],
      "source": [
        "from transformers import DistilBertTokenizer, DistilBertModel\n",
        "tokenizer = DistilBertTokenizer.from_pretrained('distilbert-base-uncased')\n",
        "bert = DistilBertModel.from_pretrained('distilbert-base-uncased')"
      ]
    },
    {
      "cell_type": "code",
      "execution_count": 50,
      "metadata": {
        "colab": {
          "base_uri": "https://localhost:8080/"
        },
        "id": "eblthFQlr6Gr",
        "outputId": "98c4fa10-d534-47ce-ce36-0493a5a2365a"
      },
      "outputs": [
        {
          "output_type": "stream",
          "name": "stderr",
          "text": [
            "/usr/local/lib/python3.10/dist-packages/transformers/tokenization_utils_base.py:2614: FutureWarning: The `pad_to_max_length` argument is deprecated and will be removed in a future version, use `padding=True` or `padding='longest'` to pad to the longest sequence in the batch, or use `padding='max_length'` to pad to a max length. In this case, you can give a specific length with `max_length` (e.g. `max_length=45`) or leave max_length to None to pad to the maximal input size of the model (e.g. 512 for Bert).\n",
            "  warnings.warn(\n"
          ]
        }
      ],
      "source": [
        "# tokenize and encode sequences in the training set\n",
        "max_seq_len = 8\n",
        "tokens_train = tokenizer(\n",
        "    train_text.tolist(),\n",
        "    max_length = max_seq_len,\n",
        "    pad_to_max_length=True,\n",
        "    truncation=True,\n",
        "    return_token_type_ids=False\n",
        ")"
      ]
    },
    {
      "cell_type": "code",
      "execution_count": 51,
      "metadata": {
        "id": "5YrmR1lUsIxf",
        "colab": {
          "base_uri": "https://localhost:8080/"
        },
        "outputId": "977e4cb5-d816-475c-8eb5-56385948384e"
      },
      "outputs": [
        {
          "output_type": "execute_result",
          "data": {
            "text/plain": [
              "tensor([3, 3, 3, 3, 3, 3, 3, 3, 3, 3, 3, 3, 3, 3, 3, 3, 3, 3, 3, 3, 3, 3, 3, 3,\n",
              "        3, 3, 3, 3, 3, 3, 3, 3, 3, 3, 3, 3, 3, 3, 3, 3, 2, 2, 2, 2, 2, 2, 2, 2,\n",
              "        2, 2, 2, 2, 2, 2, 2, 2, 2, 2, 2, 2, 2, 2, 2, 2, 2, 2, 2, 2, 2, 2, 2, 2,\n",
              "        2, 2, 2, 2, 2, 2, 2, 2, 1, 1, 1, 1, 1, 1, 1, 1, 1, 1, 1, 1, 1, 1, 1, 1,\n",
              "        1, 1, 1, 1, 1, 1, 1, 1, 1, 1, 1, 1, 1, 1, 1, 1, 1, 1, 1, 1, 1, 1, 1, 1,\n",
              "        4, 4, 4, 4, 4, 4, 4, 4, 4, 4, 4, 4, 4, 4, 4, 4, 4, 4, 4, 4, 0, 0, 0, 0,\n",
              "        0, 0, 0, 0, 0, 0, 0, 0, 0, 0, 0, 0, 0, 0, 0, 0])"
            ]
          },
          "metadata": {},
          "execution_count": 51
        }
      ],
      "source": [
        "train_seq = torch.tensor(tokens_train['input_ids'])\n",
        "train_mask = torch.tensor(tokens_train['attention_mask'])\n",
        "train_y = torch.tensor(train_labels.tolist())\n",
        "train_y"
      ]
    },
    {
      "cell_type": "code",
      "execution_count": 52,
      "metadata": {
        "id": "5445pwAisYg5"
      },
      "outputs": [],
      "source": [
        "from torch.utils.data import TensorDataset, DataLoader, RandomSampler, SequentialSampler\n",
        "batch_size = 16\n",
        "train_data = TensorDataset(train_seq, train_mask, train_y)\n",
        "train_sampler = RandomSampler(train_data)\n",
        "train_dataloader = DataLoader(train_data, sampler=train_sampler, batch_size=batch_size)"
      ]
    },
    {
      "cell_type": "code",
      "execution_count": 53,
      "metadata": {
        "id": "ynpMg1Mpse0o"
      },
      "outputs": [],
      "source": [
        "class BERT_Arch(nn.Module):\n",
        "   def __init__(self, bert):\n",
        "       super(BERT_Arch, self).__init__()\n",
        "       self.bert = bert\n",
        "\n",
        "       self.dropout = nn.Dropout(0.2)\n",
        "\n",
        "       self.relu =  nn.ReLU()\n",
        "       self.fc1 = nn.Linear(768,512)\n",
        "       self.fc2 = nn.Linear(512,256)\n",
        "       self.fc3 = nn.Linear(256,5)\n",
        "       self.softmax = nn.LogSoftmax(dim=1)\n",
        "   def forward(self, sent_id, mask):\n",
        "      cls_hs = self.bert(sent_id, attention_mask=mask)[0][:,0]\n",
        "\n",
        "      x = self.fc1(cls_hs)\n",
        "      x = self.relu(x)\n",
        "      x = self.dropout(x)\n",
        "\n",
        "      x = self.fc2(x)\n",
        "      x = self.relu(x)\n",
        "      x = self.dropout(x)\n",
        "      x = self.fc3(x)\n",
        "\n",
        "      x = self.softmax(x)\n",
        "      return x"
      ]
    },
    {
      "cell_type": "code",
      "execution_count": 54,
      "metadata": {
        "colab": {
          "base_uri": "https://localhost:8080/"
        },
        "id": "6eW7ktEaslud",
        "outputId": "45e35430-0d6a-4d4c-db3f-1b89530f6340"
      },
      "outputs": [
        {
          "output_type": "execute_result",
          "data": {
            "text/plain": [
              "================================================================================\n",
              "Layer (type:depth-idx)                                  Param #\n",
              "================================================================================\n",
              "BERT_Arch                                               --\n",
              "├─DistilBertModel: 1-1                                  --\n",
              "│    └─Embeddings: 2-1                                  --\n",
              "│    │    └─Embedding: 3-1                              (23,440,896)\n",
              "│    │    └─Embedding: 3-2                              (393,216)\n",
              "│    │    └─LayerNorm: 3-3                              (1,536)\n",
              "│    │    └─Dropout: 3-4                                --\n",
              "│    └─Transformer: 2-2                                 --\n",
              "│    │    └─ModuleList: 3-5                             (42,527,232)\n",
              "├─Dropout: 1-2                                          --\n",
              "├─ReLU: 1-3                                             --\n",
              "├─Linear: 1-4                                           393,728\n",
              "├─Linear: 1-5                                           131,328\n",
              "├─Linear: 1-6                                           1,285\n",
              "├─LogSoftmax: 1-7                                       --\n",
              "================================================================================\n",
              "Total params: 66,889,221\n",
              "Trainable params: 526,341\n",
              "Non-trainable params: 66,362,880\n",
              "================================================================================"
            ]
          },
          "metadata": {},
          "execution_count": 54
        }
      ],
      "source": [
        "for param in bert.parameters():\n",
        "      param.requires_grad = False\n",
        "model = BERT_Arch(bert)\n",
        "from torchinfo import summary\n",
        "summary(model)"
      ]
    },
    {
      "cell_type": "code",
      "execution_count": 55,
      "metadata": {
        "colab": {
          "base_uri": "https://localhost:8080/"
        },
        "id": "hShrd5lssp7k",
        "outputId": "76308bab-d7da-4bc3-a956-4f05317315c2"
      },
      "outputs": [
        {
          "output_type": "stream",
          "name": "stderr",
          "text": [
            "/usr/local/lib/python3.10/dist-packages/transformers/optimization.py:411: FutureWarning: This implementation of AdamW is deprecated and will be removed in a future version. Use the PyTorch implementation torch.optim.AdamW instead, or set `no_deprecation_warning=True` to disable this warning\n",
            "  warnings.warn(\n"
          ]
        }
      ],
      "source": [
        "from transformers import AdamW\n",
        "optimizer = AdamW(model.parameters(), lr = 1e-3)"
      ]
    },
    {
      "cell_type": "code",
      "execution_count": 56,
      "metadata": {
        "id": "4iv6Yjm-s1cs"
      },
      "outputs": [],
      "source": [
        "from sklearn.utils.class_weight import compute_class_weight\n",
        "\n",
        "class_labels = np.unique(train_labels)\n",
        "class_wts = compute_class_weight(class_weight ='balanced', classes=class_labels, y=np.array(train_labels))\n",
        "\n",
        "class_weights = dict(zip(class_labels, class_wts))"
      ]
    },
    {
      "cell_type": "code",
      "execution_count": 57,
      "metadata": {
        "colab": {
          "base_uri": "https://localhost:8080/"
        },
        "id": "POVI99cKtM1z",
        "outputId": "31519f01-92e5-41bf-e186-2b11c5a66681"
      },
      "outputs": [
        {
          "output_type": "stream",
          "name": "stdout",
          "text": [
            "[1.6 0.8 0.8 0.8 1.6]\n"
          ]
        }
      ],
      "source": [
        "print(class_wts)"
      ]
    },
    {
      "cell_type": "code",
      "execution_count": 58,
      "metadata": {
        "id": "4ZKeFX5LuSON"
      },
      "outputs": [],
      "source": [
        "weights= torch.tensor(class_wts,dtype=torch.float)\n",
        "weights = weights.to(device)\n",
        "cross_entropy = nn.NLLLoss(weight=weights)"
      ]
    },
    {
      "cell_type": "code",
      "execution_count": 59,
      "metadata": {
        "id": "TpkCecoxuW0p"
      },
      "outputs": [],
      "source": [
        "from torch.optim import lr_scheduler\n",
        "train_losses=[]\n",
        "epochs = 200\n",
        "lr_sch = lr_scheduler.StepLR(optimizer, step_size=100, gamma=0.1)\n"
      ]
    },
    {
      "cell_type": "code",
      "execution_count": 60,
      "metadata": {
        "id": "vp2jqpX8ylgt"
      },
      "outputs": [],
      "source": [
        "def train():\n",
        "\n",
        "  model.train()\n",
        "  total_loss = 0\n",
        "\n",
        "  total_preds=[]\n",
        "\n",
        "  for step,batch in enumerate(train_dataloader):\n",
        "\n",
        "    if step % 50 == 0 and not step == 0:\n",
        "      print('  Batch {:>5,}  of  {:>5,}.'.format(step,    len(train_dataloader)))\n",
        "    batch = [r.to(device) for r in batch]\n",
        "    sent_id, mask, labels = batch\n",
        "    preds = model(sent_id, mask)\n",
        "    loss = cross_entropy(preds, labels)\n",
        "    total_loss = total_loss + loss.item()\n",
        "    loss.backward()\n",
        "    torch.nn.utils.clip_grad_norm_(model.parameters(), 1.0)\n",
        "    optimizer.step()\n",
        "    optimizer.zero_grad()\n",
        "\n",
        "    preds=preds.detach().cpu().numpy()\n",
        "    total_preds.append(preds)\n",
        "  avg_loss = total_loss / len(train_dataloader)\n",
        "\n",
        "  total_preds  = np.concatenate(total_preds, axis=0)\n",
        "  # torch.save(model, 'classify_intent.pt')\n",
        "  return avg_loss, total_preds"
      ]
    },
    {
      "cell_type": "code",
      "execution_count": 61,
      "metadata": {
        "colab": {
          "base_uri": "https://localhost:8080/"
        },
        "id": "3_D5A_ESzf0N",
        "outputId": "e79bc455-f34d-4830-decf-820e4617c87a"
      },
      "outputs": [
        {
          "output_type": "stream",
          "name": "stdout",
          "text": [
            "\n",
            " Epoch 1 / 200\n",
            "\n",
            " Epoch 2 / 200\n",
            "\n",
            " Epoch 3 / 200\n",
            "\n",
            " Epoch 4 / 200\n",
            "\n",
            " Epoch 5 / 200\n",
            "\n",
            " Epoch 6 / 200\n",
            "\n",
            " Epoch 7 / 200\n",
            "\n",
            " Epoch 8 / 200\n",
            "\n",
            " Epoch 9 / 200\n",
            "\n",
            " Epoch 10 / 200\n",
            "\n",
            " Epoch 11 / 200\n",
            "\n",
            " Epoch 12 / 200\n",
            "\n",
            " Epoch 13 / 200\n",
            "\n",
            " Epoch 14 / 200\n",
            "\n",
            " Epoch 15 / 200\n",
            "\n",
            " Epoch 16 / 200\n",
            "\n",
            " Epoch 17 / 200\n",
            "\n",
            " Epoch 18 / 200\n",
            "\n",
            " Epoch 19 / 200\n",
            "\n",
            " Epoch 20 / 200\n",
            "\n",
            " Epoch 21 / 200\n",
            "\n",
            " Epoch 22 / 200\n",
            "\n",
            " Epoch 23 / 200\n",
            "\n",
            " Epoch 24 / 200\n",
            "\n",
            " Epoch 25 / 200\n",
            "\n",
            " Epoch 26 / 200\n",
            "\n",
            " Epoch 27 / 200\n",
            "\n",
            " Epoch 28 / 200\n",
            "\n",
            " Epoch 29 / 200\n",
            "\n",
            " Epoch 30 / 200\n",
            "\n",
            " Epoch 31 / 200\n",
            "\n",
            " Epoch 32 / 200\n",
            "\n",
            " Epoch 33 / 200\n",
            "\n",
            " Epoch 34 / 200\n",
            "\n",
            " Epoch 35 / 200\n",
            "\n",
            " Epoch 36 / 200\n",
            "\n",
            " Epoch 37 / 200\n",
            "\n",
            " Epoch 38 / 200\n",
            "\n",
            " Epoch 39 / 200\n",
            "\n",
            " Epoch 40 / 200\n",
            "\n",
            " Epoch 41 / 200\n",
            "\n",
            " Epoch 42 / 200\n",
            "\n",
            " Epoch 43 / 200\n",
            "\n",
            " Epoch 44 / 200\n",
            "\n",
            " Epoch 45 / 200\n",
            "\n",
            " Epoch 46 / 200\n",
            "\n",
            " Epoch 47 / 200\n",
            "\n",
            " Epoch 48 / 200\n",
            "\n",
            " Epoch 49 / 200\n",
            "\n",
            " Epoch 50 / 200\n",
            "\n",
            " Epoch 51 / 200\n",
            "\n",
            " Epoch 52 / 200\n",
            "\n",
            " Epoch 53 / 200\n",
            "\n",
            " Epoch 54 / 200\n",
            "\n",
            " Epoch 55 / 200\n",
            "\n",
            " Epoch 56 / 200\n",
            "\n",
            " Epoch 57 / 200\n",
            "\n",
            " Epoch 58 / 200\n",
            "\n",
            " Epoch 59 / 200\n",
            "\n",
            " Epoch 60 / 200\n",
            "\n",
            " Epoch 61 / 200\n",
            "\n",
            " Epoch 62 / 200\n",
            "\n",
            " Epoch 63 / 200\n",
            "\n",
            " Epoch 64 / 200\n",
            "\n",
            " Epoch 65 / 200\n",
            "\n",
            " Epoch 66 / 200\n",
            "\n",
            " Epoch 67 / 200\n",
            "\n",
            " Epoch 68 / 200\n",
            "\n",
            " Epoch 69 / 200\n",
            "\n",
            " Epoch 70 / 200\n",
            "\n",
            " Epoch 71 / 200\n",
            "\n",
            " Epoch 72 / 200\n",
            "\n",
            " Epoch 73 / 200\n",
            "\n",
            " Epoch 74 / 200\n",
            "\n",
            " Epoch 75 / 200\n",
            "\n",
            " Epoch 76 / 200\n",
            "\n",
            " Epoch 77 / 200\n",
            "\n",
            " Epoch 78 / 200\n",
            "\n",
            " Epoch 79 / 200\n",
            "\n",
            " Epoch 80 / 200\n",
            "\n",
            " Epoch 81 / 200\n",
            "\n",
            " Epoch 82 / 200\n",
            "\n",
            " Epoch 83 / 200\n",
            "\n",
            " Epoch 84 / 200\n",
            "\n",
            " Epoch 85 / 200\n",
            "\n",
            " Epoch 86 / 200\n",
            "\n",
            " Epoch 87 / 200\n",
            "\n",
            " Epoch 88 / 200\n",
            "\n",
            " Epoch 89 / 200\n",
            "\n",
            " Epoch 90 / 200\n",
            "\n",
            " Epoch 91 / 200\n",
            "\n",
            " Epoch 92 / 200\n",
            "\n",
            " Epoch 93 / 200\n",
            "\n",
            " Epoch 94 / 200\n",
            "\n",
            " Epoch 95 / 200\n",
            "\n",
            " Epoch 96 / 200\n",
            "\n",
            " Epoch 97 / 200\n",
            "\n",
            " Epoch 98 / 200\n",
            "\n",
            " Epoch 99 / 200\n",
            "\n",
            " Epoch 100 / 200\n",
            "\n",
            " Epoch 101 / 200\n",
            "\n",
            " Epoch 102 / 200\n",
            "\n",
            " Epoch 103 / 200\n",
            "\n",
            " Epoch 104 / 200\n",
            "\n",
            " Epoch 105 / 200\n",
            "\n",
            " Epoch 106 / 200\n",
            "\n",
            " Epoch 107 / 200\n",
            "\n",
            " Epoch 108 / 200\n",
            "\n",
            " Epoch 109 / 200\n",
            "\n",
            " Epoch 110 / 200\n",
            "\n",
            " Epoch 111 / 200\n",
            "\n",
            " Epoch 112 / 200\n",
            "\n",
            " Epoch 113 / 200\n",
            "\n",
            " Epoch 114 / 200\n",
            "\n",
            " Epoch 115 / 200\n",
            "\n",
            " Epoch 116 / 200\n",
            "\n",
            " Epoch 117 / 200\n",
            "\n",
            " Epoch 118 / 200\n",
            "\n",
            " Epoch 119 / 200\n",
            "\n",
            " Epoch 120 / 200\n",
            "\n",
            " Epoch 121 / 200\n",
            "\n",
            " Epoch 122 / 200\n",
            "\n",
            " Epoch 123 / 200\n",
            "\n",
            " Epoch 124 / 200\n",
            "\n",
            " Epoch 125 / 200\n",
            "\n",
            " Epoch 126 / 200\n",
            "\n",
            " Epoch 127 / 200\n",
            "\n",
            " Epoch 128 / 200\n",
            "\n",
            " Epoch 129 / 200\n",
            "\n",
            " Epoch 130 / 200\n",
            "\n",
            " Epoch 131 / 200\n",
            "\n",
            " Epoch 132 / 200\n",
            "\n",
            " Epoch 133 / 200\n",
            "\n",
            " Epoch 134 / 200\n",
            "\n",
            " Epoch 135 / 200\n",
            "\n",
            " Epoch 136 / 200\n",
            "\n",
            " Epoch 137 / 200\n",
            "\n",
            " Epoch 138 / 200\n",
            "\n",
            " Epoch 139 / 200\n",
            "\n",
            " Epoch 140 / 200\n",
            "\n",
            " Epoch 141 / 200\n",
            "\n",
            " Epoch 142 / 200\n",
            "\n",
            " Epoch 143 / 200\n",
            "\n",
            " Epoch 144 / 200\n",
            "\n",
            " Epoch 145 / 200\n",
            "\n",
            " Epoch 146 / 200\n",
            "\n",
            " Epoch 147 / 200\n",
            "\n",
            " Epoch 148 / 200\n",
            "\n",
            " Epoch 149 / 200\n",
            "\n",
            " Epoch 150 / 200\n",
            "\n",
            " Epoch 151 / 200\n",
            "\n",
            " Epoch 152 / 200\n",
            "\n",
            " Epoch 153 / 200\n",
            "\n",
            " Epoch 154 / 200\n",
            "\n",
            " Epoch 155 / 200\n",
            "\n",
            " Epoch 156 / 200\n",
            "\n",
            " Epoch 157 / 200\n",
            "\n",
            " Epoch 158 / 200\n",
            "\n",
            " Epoch 159 / 200\n",
            "\n",
            " Epoch 160 / 200\n",
            "\n",
            " Epoch 161 / 200\n",
            "\n",
            " Epoch 162 / 200\n",
            "\n",
            " Epoch 163 / 200\n",
            "\n",
            " Epoch 164 / 200\n",
            "\n",
            " Epoch 165 / 200\n",
            "\n",
            " Epoch 166 / 200\n",
            "\n",
            " Epoch 167 / 200\n",
            "\n",
            " Epoch 168 / 200\n",
            "\n",
            " Epoch 169 / 200\n",
            "\n",
            " Epoch 170 / 200\n",
            "\n",
            " Epoch 171 / 200\n",
            "\n",
            " Epoch 172 / 200\n",
            "\n",
            " Epoch 173 / 200\n",
            "\n",
            " Epoch 174 / 200\n",
            "\n",
            " Epoch 175 / 200\n",
            "\n",
            " Epoch 176 / 200\n",
            "\n",
            " Epoch 177 / 200\n",
            "\n",
            " Epoch 178 / 200\n",
            "\n",
            " Epoch 179 / 200\n",
            "\n",
            " Epoch 180 / 200\n",
            "\n",
            " Epoch 181 / 200\n",
            "\n",
            " Epoch 182 / 200\n",
            "\n",
            " Epoch 183 / 200\n",
            "\n",
            " Epoch 184 / 200\n",
            "\n",
            " Epoch 185 / 200\n",
            "\n",
            " Epoch 186 / 200\n",
            "\n",
            " Epoch 187 / 200\n",
            "\n",
            " Epoch 188 / 200\n",
            "\n",
            " Epoch 189 / 200\n",
            "\n",
            " Epoch 190 / 200\n",
            "\n",
            " Epoch 191 / 200\n",
            "\n",
            " Epoch 192 / 200\n",
            "\n",
            " Epoch 193 / 200\n",
            "\n",
            " Epoch 194 / 200\n",
            "\n",
            " Epoch 195 / 200\n",
            "\n",
            " Epoch 196 / 200\n",
            "\n",
            " Epoch 197 / 200\n",
            "\n",
            " Epoch 198 / 200\n",
            "\n",
            " Epoch 199 / 200\n",
            "\n",
            " Epoch 200 / 200\n",
            "\n",
            "Training Loss: 0.051\n"
          ]
        }
      ],
      "source": [
        "for epoch in range(epochs):\n",
        "\n",
        "    print('\\n Epoch {:} / {:}'.format(epoch + 1, epochs))\n",
        "\n",
        "    model.to(device)\n",
        "    train_loss, _ = train()\n",
        "\n",
        "    train_losses.append(train_loss)\n",
        "    torch.backends.cudnn.deterministic = True\n",
        "    torch.backends.cudnn.benchmark = False\n",
        "print(f'\\nTraining Loss: {train_loss:.3f}')"
      ]
    },
    {
      "cell_type": "code",
      "execution_count": 62,
      "metadata": {
        "id": "ajdGzIjt0V6U"
      },
      "outputs": [],
      "source": [
        "def get_prediction(str):\n",
        " str = re.sub(r'[^a-zA-Z ]+', '', str)\n",
        " test_text = [str]\n",
        " model.eval()\n",
        "\n",
        " tokens_test_data = tokenizer(\n",
        " test_text,\n",
        " max_length = max_seq_len,\n",
        " pad_to_max_length=True,\n",
        " truncation=True,\n",
        " return_token_type_ids=False\n",
        " )\n",
        " test_seq = torch.tensor(tokens_test_data['input_ids'])\n",
        " test_mask = torch.tensor(tokens_test_data['attention_mask'])\n",
        "\n",
        " preds = None\n",
        " with torch.no_grad():\n",
        "   preds = model(test_seq.to(device), test_mask.to(device))\n",
        " preds = preds.detach().cpu().numpy()\n",
        " preds = np.argmax(preds, axis = 1)\n",
        " print(\"Intent Identified: \", le.inverse_transform(preds)[0])\n",
        " return le.inverse_transform(preds)[0]"
      ]
    },
    {
      "cell_type": "code",
      "execution_count": 66,
      "metadata": {
        "id": "MYYl-Vre4bHD"
      },
      "outputs": [],
      "source": [
        "import json\n",
        "import pandas as pd"
      ]
    },
    {
      "cell_type": "code",
      "execution_count": 65,
      "metadata": {
        "id": "zQZrYWVi5Z4e"
      },
      "outputs": [],
      "source": [
        "intent_list = [{\"tag\" : \"Product\",\n",
        "                \"responses\" : []},\n",
        "               {\"tag\" : \"Positive Feedback\",\n",
        "                \"responses\" : []},\n",
        "               {\"tag\" : \"Negative Feedback\",\n",
        "                \"responses\" : []},\n",
        "               {\"tag\" : \"Product Inquiry\",\n",
        "                \"responses\" : []},\n",
        "               {\"tag\" : \"Greetings\",\n",
        "                \"responses\" : []}]"
      ]
    },
    {
      "cell_type": "code",
      "execution_count": 69,
      "metadata": {
        "id": "u10pyQ3N5lac"
      },
      "outputs": [],
      "source": [
        "for index, row in df.iterrows():\n",
        "    for index, item in enumerate(intent_list):\n",
        "        if item[\"tag\"] == \"Product\":\n",
        "            intent_list[index]['responses'].append(row['response_text'])\n",
        "        elif item[\"tag\"] == \"Positive Feedback\":\n",
        "            intent_list[index]['responses'].append(row['response_text'])\n",
        "        elif item[\"tag\"] == \"Negative Feedback\":\n",
        "            intent_list[index]['responses'].append(row['response_text'])\n",
        "        elif item[\"tag\"] == \"Product Inquiry\":\n",
        "            intent_list[index]['responses'].append(row['response_text'])\n",
        "        elif item[\"tag\"] == \"Greetings\":\n",
        "            intent_list[index]['responses'].append(row['response_text'])"
      ]
    },
    {
      "cell_type": "code",
      "execution_count": 70,
      "metadata": {
        "id": "Fz7kOApe5m6p"
      },
      "outputs": [],
      "source": [
        "data_dict = {\"intents\" : intent_list}"
      ]
    },
    {
      "cell_type": "code",
      "execution_count": 71,
      "metadata": {
        "id": "xHYrrXkM5qHj"
      },
      "outputs": [],
      "source": [
        "def get_response(message):\n",
        "  intent = get_prediction(message)\n",
        "  for i in data_dict['intents']:\n",
        "    if i[\"tag\"] == intent:\n",
        "      result = random.choice(i[\"responses\"])\n",
        "      break\n",
        "  print(f\"Response : {result}\")\n",
        "  return \"Intent: \"+ intent + '\\n' + \"Response: \" + result"
      ]
    },
    {
      "cell_type": "code",
      "execution_count": 84,
      "metadata": {
        "colab": {
          "base_uri": "https://localhost:8080/",
          "height": 142
        },
        "id": "9aRNf3mF5udd",
        "outputId": "801aa643-4088-4fee-ab2d-9884e376cbf2"
      },
      "outputs": [
        {
          "output_type": "stream",
          "name": "stdout",
          "text": [
            "Intent Identified:  Product\n",
            "Response : To track the delivery status of your order for Product K you can use the order tracking feature on our website. Alternatively you can provide me with your order number and I'll check it for you.\n"
          ]
        },
        {
          "output_type": "stream",
          "name": "stderr",
          "text": [
            "/usr/local/lib/python3.10/dist-packages/transformers/tokenization_utils_base.py:2614: FutureWarning: The `pad_to_max_length` argument is deprecated and will be removed in a future version, use `padding=True` or `padding='longest'` to pad to the longest sequence in the batch, or use `padding='max_length'` to pad to a max length. In this case, you can give a specific length with `max_length` (e.g. `max_length=45`) or leave max_length to None to pad to the maximal input size of the model (e.g. 512 for Bert).\n",
            "  warnings.warn(\n"
          ]
        },
        {
          "output_type": "execute_result",
          "data": {
            "text/plain": [
              "\"Intent: Product\\nResponse: To track the delivery status of your order for Product K you can use the order tracking feature on our website. Alternatively you can provide me with your order number and I'll check it for you.\""
            ],
            "application/vnd.google.colaboratory.intrinsic+json": {
              "type": "string"
            }
          },
          "metadata": {},
          "execution_count": 84
        }
      ],
      "source": [
        "get_response(\"My product is not delivered\")"
      ]
    },
    {
      "cell_type": "code",
      "execution_count": 93,
      "metadata": {
        "id": "9lbqd3dQ5w9E",
        "colab": {
          "base_uri": "https://localhost:8080/",
          "height": 142
        },
        "outputId": "cbb5e0a1-7551-4977-8b5e-9d87f26db1e9"
      },
      "outputs": [
        {
          "output_type": "stream",
          "name": "stdout",
          "text": [
            "Intent Identified:  Product\n",
            "Response : We're sorry for any difficulty reaching us. Please provide more details about your attempts to contact us and we'll investigate the issue. We appreciate your patience and understanding.\n"
          ]
        },
        {
          "output_type": "stream",
          "name": "stderr",
          "text": [
            "/usr/local/lib/python3.10/dist-packages/transformers/tokenization_utils_base.py:2614: FutureWarning: The `pad_to_max_length` argument is deprecated and will be removed in a future version, use `padding=True` or `padding='longest'` to pad to the longest sequence in the batch, or use `padding='max_length'` to pad to a max length. In this case, you can give a specific length with `max_length` (e.g. `max_length=45`) or leave max_length to None to pad to the maximal input size of the model (e.g. 512 for Bert).\n",
            "  warnings.warn(\n"
          ]
        },
        {
          "output_type": "execute_result",
          "data": {
            "text/plain": [
              "\"Intent: Product\\nResponse: We're sorry for any difficulty reaching us. Please provide more details about your attempts to contact us and we'll investigate the issue. We appreciate your patience and understanding.\""
            ],
            "application/vnd.google.colaboratory.intrinsic+json": {
              "type": "string"
            }
          },
          "metadata": {},
          "execution_count": 93
        }
      ],
      "source": [
        "get_response(\"My product is damaged\")"
      ]
    },
    {
      "cell_type": "code",
      "source": [
        "get_response(\"My product is not upto what I expected\")"
      ],
      "metadata": {
        "colab": {
          "base_uri": "https://localhost:8080/",
          "height": 142
        },
        "id": "F3F6IW9cYdrv",
        "outputId": "645077c6-70cf-4ad4-a056-821810cae749"
      },
      "execution_count": 89,
      "outputs": [
        {
          "output_type": "stream",
          "name": "stdout",
          "text": [
            "Intent Identified:  Product\n",
            "Response : Hey! Absolutely I can help with that. If you tell me the product you purchased I'll suggest similar items or alternatives that you might find interesting.\n"
          ]
        },
        {
          "output_type": "stream",
          "name": "stderr",
          "text": [
            "/usr/local/lib/python3.10/dist-packages/transformers/tokenization_utils_base.py:2614: FutureWarning: The `pad_to_max_length` argument is deprecated and will be removed in a future version, use `padding=True` or `padding='longest'` to pad to the longest sequence in the batch, or use `padding='max_length'` to pad to a max length. In this case, you can give a specific length with `max_length` (e.g. `max_length=45`) or leave max_length to None to pad to the maximal input size of the model (e.g. 512 for Bert).\n",
            "  warnings.warn(\n"
          ]
        },
        {
          "output_type": "execute_result",
          "data": {
            "text/plain": [
              "\"Intent: Product\\nResponse: Hey! Absolutely I can help with that. If you tell me the product you purchased I'll suggest similar items or alternatives that you might find interesting.\""
            ],
            "application/vnd.google.colaboratory.intrinsic+json": {
              "type": "string"
            }
          },
          "metadata": {},
          "execution_count": 89
        }
      ]
    },
    {
      "cell_type": "code",
      "source": [],
      "metadata": {
        "id": "j3c9gOd4Yjth"
      },
      "execution_count": 82,
      "outputs": []
    }
  ],
  "metadata": {
    "accelerator": "GPU",
    "colab": {
      "provenance": [],
      "gpuType": "T4"
    },
    "kernelspec": {
      "display_name": "Python 3",
      "name": "python3"
    },
    "language_info": {
      "name": "python"
    }
  },
  "nbformat": 4,
  "nbformat_minor": 0
}